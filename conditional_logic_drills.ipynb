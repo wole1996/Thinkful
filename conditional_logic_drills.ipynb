{
 "cells": [
  {
   "cell_type": "markdown",
   "metadata": {},
   "source": [
    "## 1:  `take_umbrella`\n",
    "\n",
    "Write a function called `take_umbrella` that takes two arguments: a string representing the current weather and a float representing the chance of rain today.\n",
    "\n",
    "Your function should return `True` or `False` based on the following criteria.\n",
    "\n",
    "You should take an umbrella if it's currently raining or if it's cloudy and the chance of rain is over 0.20.\n",
    "You shouldn't take an umbrella if it's sunny unless it's more likely to rain than not.\n",
    "The options for the current weather are sunny, cloudy, and rainy.\n",
    "\n",
    "For example, `take_umbrella('sunny', 0.40)` should return `False`.\n",
    "\n",
    "As an additional challenge, consider solving this kata using only logical operaters and not using any if statements."
   ]
  },
  {
   "cell_type": "code",
   "execution_count": null,
   "metadata": {},
   "outputs": [],
   "source": [
    "def take_umbrella(weather, rain_chance):\n",
    "    if weather=='sunny':\n",
    "        return False\n",
    "    elif  weather=='raining': \n",
    "        return True\n",
    "    elif rain_chance>0.2:\n",
    "        return True\n",
    "    \n",
    "    else:\n",
    "        return False\n",
    "    \n",
    "    \"\"\"\n",
    "    tells you if you should bring an umbrella given some weather data\n",
    "\n",
    "    Args:\n",
    "        weather: the current weather. Valid choices are sunny, cloudy, and rainy\n",
    "        rain_chance: float of the chance of rain. 0.5 -> 50% chance to rain\n",
    "\n",
    "    Returns:\n",
    "        True/False on if you should bring an umbrella today\n",
    "    \"\"\"\n",
    "    \n",
    "    \n",
    "    # your code here\n",
    "take_umbrella(\"raining\",0.4)"
   ]
  },
  {
   "cell_type": "markdown",
   "metadata": {},
   "source": [
    "## 2: `color probability`\n",
    "\n",
    "You're playing a game with a friend involving a bag of marbles. In the bag are ten marbles:\n",
    "\n",
    "- 1 smooth red marble\n",
    "- 4 bumpy red marbles\n",
    "- 2 bumpy yellow marbles\n",
    "- 1 smooth yellow marble\n",
    "- 1 bumpy green marble\n",
    "- 1 smooth green marble\n",
    "\n",
    "You can see that the probability of picking a smooth red marble from the bag is 1 / 10 or 0.10 and the probability of picking a bumpy yellow marble is 2 / 10 or 0.20.\n",
    "\n",
    "The game works like this: your friend puts her hand in the bag, chooses a marble (without looking at it) and tells you whether it's bumpy or smooth. Then you have to guess which color it is before she pulls it out and reveals whether you're correct or not.\n",
    "\n",
    "You know that the information about whether the marble is bumpy or smooth changes the probability of what color it is, and you want some help with your guesses.\n",
    "\n",
    "Write a function `color_probability` that takes two arguments: a color ('red', 'yellow', or 'green') and a texture ('bumpy' or 'smooth') and returns the probability of drawing that combination as a decimal fraction accurate to two places.\n",
    "\n",
    "The probability should be a string and should discard any digits after the 100ths place. For example, 2 / 3 or 0.6666666666666666 would become the string '0.66'. Note this is different from rounding.\n",
    "\n",
    "As a complete example, color_probability('red', 'bumpy') should return the string '0.57'."
   ]
  },
  {
   "cell_type": "code",
   "execution_count": 20,
   "metadata": {},
   "outputs": [
    {
     "data": {
      "text/plain": [
       "0.4"
      ]
     },
     "execution_count": 20,
     "metadata": {},
     "output_type": "execute_result"
    }
   ],
   "source": [
    "def color_probability(color, texture):\n",
    "    red_smooth = 1\n",
    "    red_bumpy = 4\n",
    "    yellow_bumpy = 2\n",
    "    yellow_smooth = 1\n",
    "    green_bumpy = 1\n",
    "    green_smooth = 1\n",
    "    sum=red_smooth+red_bumpy+green_smooth+green_bumpy+yellow_smooth+yellow_bumpy\n",
    "    sum\n",
    "    \n",
    "    if color=='red' and texture==\"smooth\":\n",
    "        return red_smooth/sum\n",
    "    elif color=='red' and texture=='bumpy':\n",
    "        return red_bumpy/sum\n",
    "    elif color=='green' and texture=='smooth':\n",
    "        return green_smooth/sum\n",
    "    elif color=='green' and texture=='bumpy': \n",
    "        return green_bumpy/sum\n",
    "    elif color== 'yellow' and texture=='smooth':\n",
    "        return yellow_smooth/sum\n",
    "    elif color=='yellow' and texture=='bumpy':\n",
    "        return yelow_bumpy/sum\n",
    "    \n",
    "    \n",
    "        \n",
    "color_probability ('red','bumpy')"
   ]
  },
  {
   "cell_type": "code",
   "execution_count": null,
   "metadata": {},
   "outputs": [],
   "source": [
    " \"\"\"\n",
    "    Tells you the probability of picking a particular kind of marble\n",
    "\n",
    "    Args:\n",
    "        color: the color of the marble. Choices are 'red', 'yellow', or 'green'.\n",
    "        texture: the texture of the marble. Choices are 'bumpy', and 'smooth'.\n",
    "\n",
    "    Returns:\n",
    "        probability that you will pick a marble described.\n",
    "    \"\"\"\n",
    "   "
   ]
  }
 ],
 "metadata": {
  "kernelspec": {
   "display_name": "Python 3",
   "language": "python",
   "name": "python3"
  },
  "language_info": {
   "codemirror_mode": {
    "name": "ipython",
    "version": 3
   },
   "file_extension": ".py",
   "mimetype": "text/x-python",
   "name": "python",
   "nbconvert_exporter": "python",
   "pygments_lexer": "ipython3",
   "version": "3.7.4"
  }
 },
 "nbformat": 4,
 "nbformat_minor": 2
}
